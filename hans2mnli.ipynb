{
 "cells": [
  {
   "cell_type": "code",
   "execution_count": 58,
   "metadata": {},
   "outputs": [],
   "source": [
    "import csv\n",
    "import random\n",
    "import os\n",
    "import re"
   ]
  },
  {
   "cell_type": "code",
   "execution_count": null,
   "metadata": {},
   "outputs": [],
   "source": []
  },
  {
   "cell_type": "code",
   "execution_count": 43,
   "metadata": {},
   "outputs": [],
   "source": [
    "nm_ref = 'ref/dev_matched.tsv'"
   ]
  },
  {
   "cell_type": "code",
   "execution_count": 40,
   "metadata": {},
   "outputs": [],
   "source": [
    "with open(nm_ref, 'r') as file:\n",
    "    mnli = csv.reader(file, delimiter = '\\t')\n",
    "    \n",
    "    for row in mnli:\n",
    "        cols = list(row)\n",
    "        break"
   ]
  },
  {
   "cell_type": "code",
   "execution_count": 47,
   "metadata": {
    "collapsed": true,
    "jupyter": {
     "outputs_hidden": true
    }
   },
   "outputs": [
    {
     "name": "stdout",
     "output_type": "stream",
     "text": [
      "['gold_label', 'sentence1_binary_parse', 'sentence2_binary_parse', 'sentence1_parse', 'sentence2_parse', 'sentence1', 'sentence2', 'pairID', 'heuristic', 'subcase', 'template']\n",
      "['non-entailment', '( ( The president ) ( ( advised ( the doctor ) ) . ) )', '( ( The doctor ) ( ( advised ( the president ) ) . ) )', '(ROOT (S (NP (DT The) (NN president)) (VP (VBD advised) (NP (DT the) (NN doctor))) (. .)))', '(ROOT (S (NP (DT The) (NN doctor)) (VP (VBD advised) (NP (DT the) (NN president))) (. .)))', 'The president advised the doctor .', 'The doctor advised the president .', 'ex0', 'lexical_overlap', 'ln_subject/object_swap', 'temp1']\n",
      "['non-entailment', '( ( The student ) ( ( saw ( the managers ) ) . ) )', '( ( The managers ) ( ( saw ( the student ) ) . ) )', '(ROOT (S (NP (DT The) (NN student)) (VP (VBD saw) (NP (DT the) (NNS managers))) (. .)))', '(ROOT (S (NP (DT The) (NNS managers)) (VP (VBD saw) (NP (DT the) (NN student))) (. .)))', 'The student saw the managers .', 'The managers saw the student .', 'ex1', 'lexical_overlap', 'ln_subject/object_swap', 'temp1']\n",
      "['non-entailment', '( ( The presidents ) ( ( encouraged ( the banker ) ) . ) )', '( ( The banker ) ( ( encouraged ( the presidents ) ) . ) )', '(ROOT (S (NP (DT The) (NNS presidents)) (VP (VBD encouraged) (NP (DT the) (NN banker))) (. .)))', '(ROOT (S (NP (DT The) (NN banker)) (VP (VBD encouraged) (NP (DT the) (NNS presidents))) (. .)))', 'The presidents encouraged the banker .', 'The banker encouraged the presidents .', 'ex2', 'lexical_overlap', 'ln_subject/object_swap', 'temp1']\n",
      "['non-entailment', '( ( The senators ) ( ( supported ( the actor ) ) . ) )', '( ( The actor ) ( ( supported ( the senators ) ) . ) )', '(ROOT (S (NP (DT The) (NNS senators)) (VP (VBD supported) (NP (DT the) (NN actor))) (. .)))', '(ROOT (S (NP (DT The) (NN actor)) (VP (VBD supported) (NP (DT the) (NNS senators))) (. .)))', 'The senators supported the actor .', 'The actor supported the senators .', 'ex3', 'lexical_overlap', 'ln_subject/object_swap', 'temp1']\n"
     ]
    }
   ],
   "source": [
    "with open(nm_data, 'r') as file:\n",
    "    mnli = csv.reader(file, delimiter = '\\t')\n",
    "    \n",
    "    i = 0\n",
    "    for row in mnli:\n",
    "        i += 1\n",
    "        cols = list(row)\n",
    "        print(cols)\n",
    "        if i == 5: break"
   ]
  },
  {
   "cell_type": "code",
   "execution_count": 32,
   "metadata": {},
   "outputs": [],
   "source": [
    "nm_data = 'heuristics_evaluation_set.txt'"
   ]
  },
  {
   "cell_type": "code",
   "execution_count": 48,
   "metadata": {},
   "outputs": [],
   "source": [
    "with open(nm_data, 'r') as f:\n",
    "    hans = f.readlines()"
   ]
  },
  {
   "cell_type": "code",
   "execution_count": 49,
   "metadata": {},
   "outputs": [
    {
     "data": {
      "text/plain": [
       "30001"
      ]
     },
     "execution_count": 49,
     "metadata": {},
     "output_type": "execute_result"
    }
   ],
   "source": [
    "len(hans)"
   ]
  },
  {
   "cell_type": "code",
   "execution_count": 41,
   "metadata": {},
   "outputs": [
    {
     "name": "stdout",
     "output_type": "stream",
     "text": [
      "0 index\n",
      "1 promptID\n",
      "2 pairID\n",
      "3 genre\n",
      "4 sentence1_binary_parse\n",
      "5 sentence2_binary_parse\n",
      "6 sentence1_parse\n",
      "7 sentence2_parse\n",
      "8 sentence1\n",
      "9 sentence2\n",
      "10 label1\n",
      "11 label2\n",
      "12 label3\n",
      "13 label4\n",
      "14 label5\n",
      "15 gold_label\n"
     ]
    }
   ],
   "source": [
    "hans_cols = hans[0].split('\\t')\n",
    "for i, nm_col in enumerate((cols)):\n",
    "    print(i, nm_col)"
   ]
  },
  {
   "cell_type": "code",
   "execution_count": 39,
   "metadata": {},
   "outputs": [
    {
     "name": "stdout",
     "output_type": "stream",
     "text": [
      "0 gold_label\n",
      "1 sentence1_binary_parse\n",
      "2 sentence2_binary_parse\n",
      "3 sentence1_parse\n",
      "4 sentence2_parse\n",
      "5 sentence1\n",
      "6 sentence2\n",
      "7 pairID\n",
      "8 heuristic\n",
      "9 subcase\n",
      "10 template\n",
      "\n"
     ]
    }
   ],
   "source": [
    "hans_cols = hans[0].split('\\t')\n",
    "for i, nm_col in enumerate((hans_cols)):\n",
    "    print(i, nm_col)"
   ]
  },
  {
   "cell_type": "code",
   "execution_count": 63,
   "metadata": {},
   "outputs": [],
   "source": [
    "a = 'ex1'"
   ]
  },
  {
   "cell_type": "code",
   "execution_count": 64,
   "metadata": {},
   "outputs": [
    {
     "data": {
      "text/plain": [
       "'1'"
      ]
     },
     "execution_count": 64,
     "metadata": {},
     "output_type": "execute_result"
    }
   ],
   "source": [
    "a[2:]"
   ]
  },
  {
   "cell_type": "code",
   "execution_count": 37,
   "metadata": {},
   "outputs": [
    {
     "data": {
      "text/plain": [
       "{'gold_label',\n",
       " 'pairID',\n",
       " 'sentence1',\n",
       " 'sentence1_binary_parse',\n",
       " 'sentence1_parse',\n",
       " 'sentence2',\n",
       " 'sentence2_binary_parse',\n",
       " 'sentence2_parse'}"
      ]
     },
     "execution_count": 37,
     "metadata": {},
     "output_type": "execute_result"
    }
   ],
   "source": [
    "set(cols).intersection(set(hans_cols))"
   ]
  },
  {
   "cell_type": "code",
   "execution_count": 67,
   "metadata": {},
   "outputs": [],
   "source": [
    "dir_out = 'output/mnli'\n",
    "nm_out = 'dev.tsv'"
   ]
  },
  {
   "cell_type": "code",
   "execution_count": 68,
   "metadata": {},
   "outputs": [],
   "source": [
    "len_samp = len(hans)"
   ]
  },
  {
   "cell_type": "markdown",
   "metadata": {},
   "source": [
    "## make dev set"
   ]
  },
  {
   "cell_type": "code",
   "execution_count": 69,
   "metadata": {},
   "outputs": [],
   "source": [
    "with open(nm_out, 'wt', newline = \"\\n\")  as out_file:\n",
    "    tsv_writer = csv.writer(out_file, delimiter = '\\t')\n",
    "        \n",
    "    for idx in range(len_samp):\n",
    "        list_r = hans[idx].split('\\t')\n",
    "        list_r[-1] = re.sub(\"\\n\", \"\", list_r[-1])\n",
    "        \n",
    "        tsv_writer.writerow(list_r)"
   ]
  },
  {
   "cell_type": "code",
   "execution_count": 60,
   "metadata": {},
   "outputs": [
    {
     "data": {
      "text/plain": [
       "\u001b[0;31mSignature:\u001b[0m \u001b[0mre\u001b[0m\u001b[0;34m.\u001b[0m\u001b[0msub\u001b[0m\u001b[0;34m(\u001b[0m\u001b[0mpattern\u001b[0m\u001b[0;34m,\u001b[0m \u001b[0mrepl\u001b[0m\u001b[0;34m,\u001b[0m \u001b[0mstring\u001b[0m\u001b[0;34m,\u001b[0m \u001b[0mcount\u001b[0m\u001b[0;34m=\u001b[0m\u001b[0;36m0\u001b[0m\u001b[0;34m,\u001b[0m \u001b[0mflags\u001b[0m\u001b[0;34m=\u001b[0m\u001b[0;36m0\u001b[0m\u001b[0;34m)\u001b[0m\u001b[0;34m\u001b[0m\u001b[0;34m\u001b[0m\u001b[0m\n",
       "\u001b[0;31mDocstring:\u001b[0m\n",
       "Return the string obtained by replacing the leftmost\n",
       "non-overlapping occurrences of the pattern in string by the\n",
       "replacement repl.  repl can be either a string or a callable;\n",
       "if a string, backslash escapes in it are processed.  If it is\n",
       "a callable, it's passed the Match object and must return\n",
       "a replacement string to be used.\n",
       "\u001b[0;31mFile:\u001b[0m      ~/anaconda3/envs/nlp/lib/python3.7/re.py\n",
       "\u001b[0;31mType:\u001b[0m      function\n"
      ]
     },
     "metadata": {},
     "output_type": "display_data"
    }
   ],
   "source": [
    "?re.sub"
   ]
  },
  {
   "cell_type": "code",
   "execution_count": 57,
   "metadata": {},
   "outputs": [
    {
     "name": "stdout",
     "output_type": "stream",
     "text": [
      "['non-entailment', '( ( The athletes ) ( ( thanked ( the student ) ) . ) )', '( ( The student ) ( ( thanked ( the athletes ) ) . ) )', '(ROOT (S (NP (DT The) (NNS athletes)) (VP (VBD thanked) (NP (DT the) (NN student))) (. .)))', '(ROOT (S (NP (DT The) (NN student)) (VP (VBD thanked) (NP (DT the) (NNS athletes))) (. .)))', 'The athletes thanked the student .', 'The student thanked the athletes .', 'ex78', 'lexical_overlap', 'ln_subject/object_swap', 'temp1\\n']\n"
     ]
    }
   ],
   "source": [
    "print(list_r)"
   ]
  },
  {
   "cell_type": "code",
   "execution_count": null,
   "metadata": {},
   "outputs": [],
   "source": [
    "with open(os.path.join(dir_out, nm_out), 'wt', newline = '\\n') as out_file:\n",
    "    tsv_writer = csv.writer(out_file, delimiter = '\\t')\n",
    "    tsv_writer.writerow(['index', "
   ]
  },
  {
   "cell_type": "code",
   "execution_count": null,
   "metadata": {},
   "outputs": [],
   "source": []
  },
  {
   "cell_type": "markdown",
   "metadata": {},
   "source": [
    "### Sample from dev set"
   ]
  },
  {
   "cell_type": "code",
   "execution_count": 50,
   "metadata": {},
   "outputs": [],
   "source": [
    "num_samp = 80"
   ]
  },
  {
   "cell_type": "code",
   "execution_count": 54,
   "metadata": {},
   "outputs": [],
   "source": [
    "nm_out = 'dev_toy.tsv'"
   ]
  },
  {
   "cell_type": "code",
   "execution_count": null,
   "metadata": {},
   "outputs": [],
   "source": []
  }
 ],
 "metadata": {
  "kernelspec": {
   "display_name": "Python 3",
   "language": "python",
   "name": "python3"
  },
  "language_info": {
   "codemirror_mode": {
    "name": "ipython",
    "version": 3
   },
   "file_extension": ".py",
   "mimetype": "text/x-python",
   "name": "python",
   "nbconvert_exporter": "python",
   "pygments_lexer": "ipython3",
   "version": "3.7.6"
  }
 },
 "nbformat": 4,
 "nbformat_minor": 4
}
