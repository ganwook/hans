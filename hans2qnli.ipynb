{
 "cells": [
  {
   "cell_type": "code",
   "execution_count": 9,
   "metadata": {},
   "outputs": [],
   "source": [
    "import csv\n",
    "import random"
   ]
  },
  {
   "cell_type": "code",
   "execution_count": null,
   "metadata": {},
   "outputs": [],
   "source": []
  },
  {
   "cell_type": "code",
   "execution_count": 2,
   "metadata": {},
   "outputs": [],
   "source": [
    "nm_data = 'heuristics_evaluation_set.txt'"
   ]
  },
  {
   "cell_type": "code",
   "execution_count": 3,
   "metadata": {},
   "outputs": [],
   "source": [
    "with open(nm_data, 'r') as f:\n",
    "    hans = f.readlines()"
   ]
  },
  {
   "cell_type": "code",
   "execution_count": 4,
   "metadata": {},
   "outputs": [
    {
     "data": {
      "text/plain": [
       "30001"
      ]
     },
     "execution_count": 4,
     "metadata": {},
     "output_type": "execute_result"
    }
   ],
   "source": [
    "len(hans)"
   ]
  },
  {
   "cell_type": "code",
   "execution_count": 20,
   "metadata": {},
   "outputs": [],
   "source": [
    "nm_out = 'dev.tsv'"
   ]
  },
  {
   "cell_type": "markdown",
   "metadata": {},
   "source": [
    "## make dev set"
   ]
  },
  {
   "cell_type": "code",
   "execution_count": 21,
   "metadata": {},
   "outputs": [],
   "source": [
    "with open(nm_out, 'wt', newline = '\\n')  as out_file:\n",
    "    tsv_writer = csv.writer(out_file, delimiter = '\\t')\n",
    "    tsv_writer.writerow(['index', 'question', 'sentence', 'label'])\n",
    "    \n",
    "    for i in range(1, len(hans)):\n",
    "        list_r = hans[i].split('\\t')\n",
    "        \n",
    "        index = list_r[7][2:]\n",
    "        question = list_r[5]\n",
    "        sentence = list_r[6]\n",
    "        label = list_r[0] if list_r[0] == 'entailment' else 'not_entailment'\n",
    "        \n",
    "        tsv_writer.writerow([index, question, sentence, label])"
   ]
  },
  {
   "cell_type": "code",
   "execution_count": null,
   "metadata": {},
   "outputs": [],
   "source": []
  },
  {
   "cell_type": "markdown",
   "metadata": {},
   "source": [
    "### Sample from dev set"
   ]
  },
  {
   "cell_type": "code",
   "execution_count": 29,
   "metadata": {},
   "outputs": [],
   "source": [
    "num_samp = 80"
   ]
  },
  {
   "cell_type": "code",
   "execution_count": 30,
   "metadata": {},
   "outputs": [],
   "source": [
    "nm_out = 'dev_toy.tsv'"
   ]
  },
  {
   "cell_type": "code",
   "execution_count": 33,
   "metadata": {},
   "outputs": [],
   "source": [
    "with open(nm_out, 'wt', newline = '\\n')  as out_file:\n",
    "    tsv_writer = csv.writer(out_file, delimiter = '\\t')\n",
    "    tsv_writer.writerow(['index', 'question', 'sentence', 'label'])\n",
    "    \n",
    "    idxs = random.sample(range(len(hans)), num_samp)\n",
    "    for i, idx in enumerate(sorted(idxs)):\n",
    "        list_r = hans[idx].split('\\t')\n",
    "        index = list_r[7]\n",
    "        question = list_r[5]\n",
    "        sentence = list_r[6]\n",
    "        label = list_r[0] if list_r[0] == 'entailment' else 'not_entailment'\n",
    "        \n",
    "        tsv_writer.writerow([index, question, sentence, label])"
   ]
  },
  {
   "cell_type": "code",
   "execution_count": null,
   "metadata": {},
   "outputs": [],
   "source": []
  },
  {
   "cell_type": "code",
   "execution_count": 26,
   "metadata": {},
   "outputs": [],
   "source": [
    "#for i in range(len(hans)):\n",
    "i = 2"
   ]
  },
  {
   "cell_type": "code",
   "execution_count": 27,
   "metadata": {},
   "outputs": [
    {
     "data": {
      "text/plain": [
       "['non-entailment',\n",
       " '( ( The student ) ( ( saw ( the managers ) ) . ) )',\n",
       " '( ( The managers ) ( ( saw ( the student ) ) . ) )',\n",
       " '(ROOT (S (NP (DT The) (NN student)) (VP (VBD saw) (NP (DT the) (NNS managers))) (. .)))',\n",
       " '(ROOT (S (NP (DT The) (NNS managers)) (VP (VBD saw) (NP (DT the) (NN student))) (. .)))',\n",
       " 'The student saw the managers .',\n",
       " 'The managers saw the student .',\n",
       " 'ex1',\n",
       " 'lexical_overlap',\n",
       " 'ln_subject/object_swap',\n",
       " 'temp1\\n']"
      ]
     },
     "execution_count": 27,
     "metadata": {},
     "output_type": "execute_result"
    }
   ],
   "source": [
    "list_r = hans[i].split('\\t')\n",
    "list_r"
   ]
  },
  {
   "cell_type": "code",
   "execution_count": 39,
   "metadata": {},
   "outputs": [],
   "source": [
    "index = list_r[7][2:]\n",
    "question = list_r[5]\n",
    "sentence = list_r[6]\n",
    "label = list_r[0] if list_r[0] == 'entailment' else 'not_entailment'"
   ]
  },
  {
   "cell_type": "code",
   "execution_count": 40,
   "metadata": {},
   "outputs": [
    {
     "data": {
      "text/plain": [
       "'1\\tThe student saw the managers .\\tThe managers saw the student .\\tnot_entailment'"
      ]
     },
     "execution_count": 40,
     "metadata": {},
     "output_type": "execute_result"
    }
   ],
   "source": [
    "row = '\\t'.join((index, question, sentence, label))\n",
    "row"
   ]
  },
  {
   "cell_type": "code",
   "execution_count": 9,
   "metadata": {},
   "outputs": [
    {
     "name": "stdout",
     "output_type": "stream",
     "text": [
      "gold_label sentence1 sentence2 pairID\n"
     ]
    }
   ],
   "source": [
    "print(a[0], a[5], a[6], a[7])"
   ]
  }
 ],
 "metadata": {
  "kernelspec": {
   "display_name": "Python 3",
   "language": "python",
   "name": "python3"
  },
  "language_info": {
   "codemirror_mode": {
    "name": "ipython",
    "version": 3
   },
   "file_extension": ".py",
   "mimetype": "text/x-python",
   "name": "python",
   "nbconvert_exporter": "python",
   "pygments_lexer": "ipython3",
   "version": "3.7.6"
  }
 },
 "nbformat": 4,
 "nbformat_minor": 4
}
